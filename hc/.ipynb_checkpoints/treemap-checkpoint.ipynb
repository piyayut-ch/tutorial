{
 "cells": [
  {
   "cell_type": "code",
   "execution_count": 3,
   "metadata": {},
   "outputs": [
    {
     "name": "stderr",
     "output_type": "stream",
     "text": [
      "Registered S3 method overwritten by 'quantmod':\n",
      "  method            from\n",
      "  as.zoo.data.frame zoo \n",
      "\n"
     ]
    }
   ],
   "source": [
    "library(tidyverse)\n",
    "library(highcharter)"
   ]
  },
  {
   "cell_type": "code",
   "execution_count": 7,
   "metadata": {},
   "outputs": [
    {
     "name": "stderr",
     "output_type": "stream",
     "text": [
      "`summarise()` regrouping output by 'manufacturer' (override with `.groups` argument)\n",
      "\n"
     ]
    },
    {
     "ename": "ERROR",
     "evalue": "Error: 'treemap' argument is not named in hc_add_series\n",
     "output_type": "error",
     "traceback": [
      "Error: 'treemap' argument is not named in hc_add_series\nTraceback:\n",
      "1. hchart(mpgman, \"treemap\")",
      "2. hchart.list(mpgman, \"treemap\")",
      "3. highchart() %>% hc_add_series(data = object, ...)",
      "4. withVisible(eval(quote(`_fseq`(`_lhs`)), env, env))",
      "5. eval(quote(`_fseq`(`_lhs`)), env, env)",
      "6. eval(quote(`_fseq`(`_lhs`)), env, env)",
      "7. `_fseq`(`_lhs`)",
      "8. freduce(value, `_function_list`)",
      "9. withVisible(function_list[[k]](value))",
      "10. function_list[[k]](value)",
      "11. hc_add_series(., data = object, ...)",
      "12. hc_add_series.default(., data = object, ...)",
      "13. validate_args(\"add_series\", eval(substitute(alist(...))))",
      "14. stop(chrargs, \" argument\", txt, \"not named in \", paste0(\"hc_\", \n  .     name), call. = FALSE)"
     ]
    }
   ],
   "source": [
    "# mpgman <- mpg %>% \n",
    "#   group_by(manufacturer, model) %>% \n",
    "#   summarise(n = n(),\n",
    "#             unique = length(unique(model))) %>% \n",
    "#   arrange(-n, -unique)\n",
    "\n",
    "mpgman <- data_to_hierarchical(mpg, c(manufacturer, model), hwy)\n",
    "\n",
    "hchart(mpgman, \"treemap\")"
   ]
  },
  {
   "cell_type": "code",
   "execution_count": null,
   "metadata": {},
   "outputs": [],
   "source": []
  }
 ],
 "metadata": {
  "kernelspec": {
   "display_name": "R",
   "language": "R",
   "name": "ir"
  },
  "language_info": {
   "codemirror_mode": "r",
   "file_extension": ".r",
   "mimetype": "text/x-r-source",
   "name": "R",
   "pygments_lexer": "r",
   "version": "4.0.3"
  }
 },
 "nbformat": 4,
 "nbformat_minor": 4
}
