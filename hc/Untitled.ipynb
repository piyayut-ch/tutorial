{
 "cells": [
  {
   "cell_type": "code",
   "execution_count": null,
   "metadata": {},
   "outputs": [],
   "source": [
    "library(highcharter)\n",
    "library(dplyr)\n",
    "# remotes::install_github(\"allisonhorst/palmerpenguins\")\n",
    "data(penguins, package = \"palmerpenguins\")\n",
    "data(diamonds, economics_long, package = \"ggplot2\")\n",
    "\n",
    "hchart(penguins, \"scatter\", hcaes(x = body_mass_g, y = flipper_length_mm , group = species))"
   ]
  }
 ],
 "metadata": {
  "kernelspec": {
   "display_name": "R",
   "language": "R",
   "name": "ir"
  },
  "language_info": {
   "codemirror_mode": "r",
   "file_extension": ".r",
   "mimetype": "text/x-r-source",
   "name": "R",
   "pygments_lexer": "r",
   "version": "4.0.3"
  }
 },
 "nbformat": 4,
 "nbformat_minor": 4
}
