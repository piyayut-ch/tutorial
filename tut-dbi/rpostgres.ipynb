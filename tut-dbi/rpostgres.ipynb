{
 "cells": [
  {
   "cell_type": "code",
   "execution_count": 27,
   "metadata": {},
   "outputs": [],
   "source": [
    "library(DBI)\n",
    "library(tidyverse)\n",
    "library(readxl)"
   ]
  },
  {
   "cell_type": "markdown",
   "metadata": {},
   "source": [
    "## Connection\n",
    "- dbConnect()\n",
    "- dbDisconnect()\n",
    "\n",
    "\n",
    "## Check\n",
    "- dbIsReadOnly()\n",
    "- dbIsValid()\n",
    "- dbExistsTable()\n",
    "\n",
    "\n",
    "## Queries\n",
    "- dbGetQuery()\n",
    "- dbSendQuery() \n",
    "- dbSendStatement()\n",
    "\n",
    "\n",
    "## Retrieve Info\n",
    "- dbListFields() \n",
    "- dbListObjects() \n",
    "- dbListResults() \n",
    "- dbListTables()\n",
    "- dbReadTable()\n",
    "- dbGetException() \n",
    "- dbGetInfo() \n",
    "- dbDataType()\n",
    "\n",
    "## Actions\n",
    "- dbAppendTable() \n",
    "- dbRemoveTable() \n",
    "- dbWriteTable()\n",
    "- dbExecute()"
   ]
  },
  {
   "cell_type": "code",
   "execution_count": 32,
   "metadata": {},
   "outputs": [],
   "source": [
    "con <- DBI::dbConnect(\n",
    "  RPostgres::Postgres(),\n",
    "  host = \"192.168.4.133\",\n",
    "  user = \"postgres\",\n",
    "  password = \"smxK9T\",\n",
    "  dbname = \"db_mobile_app_ag\"\n",
    ")"
   ]
  },
  {
   "cell_type": "code",
   "execution_count": 29,
   "metadata": {},
   "outputs": [],
   "source": [
    "df <- read_excel(\"data/app_1_url.xlsx\")"
   ]
  },
  {
   "cell_type": "code",
   "execution_count": null,
   "metadata": {},
   "outputs": [],
   "source": [
    "dbCreateTable(con, \"df\", df)"
   ]
  },
  {
   "cell_type": "code",
   "execution_count": 39,
   "metadata": {},
   "outputs": [
    {
     "data": {
      "text/html": [
       "5"
      ],
      "text/latex": [
       "5"
      ],
      "text/markdown": [
       "5"
      ],
      "text/plain": [
       "[1] 5"
      ]
     },
     "metadata": {},
     "output_type": "display_data"
    }
   ],
   "source": [
    "dbAppendTable(con, \"df\", df)"
   ]
  },
  {
   "cell_type": "code",
   "execution_count": 40,
   "metadata": {},
   "outputs": [
    {
     "data": {
      "text/html": [
       "<table>\n",
       "<caption>A data.frame: 5 × 2</caption>\n",
       "<thead>\n",
       "\t<tr><th scope=col>code</th><th scope=col>url_andriod</th></tr>\n",
       "\t<tr><th scope=col>&lt;chr&gt;</th><th scope=col>&lt;chr&gt;</th></tr>\n",
       "</thead>\n",
       "<tbody>\n",
       "\t<tr><td>oae-farmd    </td><td>https://play.google.com/store/apps/details?id=th.go.oae.anew.farmd   </td></tr>\n",
       "\t<tr><td>oae-pricefarm</td><td>https://play.google.com/store/apps/details?id=th.go.oae.skm_pricefarm</td></tr>\n",
       "\t<tr><td>oae-rcmo     </td><td>https://play.google.com/store/apps/details?id=th.go.oae.rcmo         </td></tr>\n",
       "\t<tr><td>oae-mis      </td><td>https://play.google.com/store/apps/details?id=th.go.oae.moacmis.nut  </td></tr>\n",
       "\t<tr><td>oae-farmer1  </td><td>https://play.google.com/store/apps/details?id=com.betimes.oaefarmer  </td></tr>\n",
       "</tbody>\n",
       "</table>\n"
      ],
      "text/latex": [
       "A data.frame: 5 × 2\n",
       "\\begin{tabular}{ll}\n",
       " code & url\\_andriod\\\\\n",
       " <chr> & <chr>\\\\\n",
       "\\hline\n",
       "\t oae-farmd     & https://play.google.com/store/apps/details?id=th.go.oae.anew.farmd   \\\\\n",
       "\t oae-pricefarm & https://play.google.com/store/apps/details?id=th.go.oae.skm\\_pricefarm\\\\\n",
       "\t oae-rcmo      & https://play.google.com/store/apps/details?id=th.go.oae.rcmo         \\\\\n",
       "\t oae-mis       & https://play.google.com/store/apps/details?id=th.go.oae.moacmis.nut  \\\\\n",
       "\t oae-farmer1   & https://play.google.com/store/apps/details?id=com.betimes.oaefarmer  \\\\\n",
       "\\end{tabular}\n"
      ],
      "text/markdown": [
       "\n",
       "A data.frame: 5 × 2\n",
       "\n",
       "| code &lt;chr&gt; | url_andriod &lt;chr&gt; |\n",
       "|---|---|\n",
       "| oae-farmd     | https://play.google.com/store/apps/details?id=th.go.oae.anew.farmd    |\n",
       "| oae-pricefarm | https://play.google.com/store/apps/details?id=th.go.oae.skm_pricefarm |\n",
       "| oae-rcmo      | https://play.google.com/store/apps/details?id=th.go.oae.rcmo          |\n",
       "| oae-mis       | https://play.google.com/store/apps/details?id=th.go.oae.moacmis.nut   |\n",
       "| oae-farmer1   | https://play.google.com/store/apps/details?id=com.betimes.oaefarmer   |\n",
       "\n"
      ],
      "text/plain": [
       "  code         \n",
       "1 oae-farmd    \n",
       "2 oae-pricefarm\n",
       "3 oae-rcmo     \n",
       "4 oae-mis      \n",
       "5 oae-farmer1  \n",
       "  url_andriod                                                          \n",
       "1 https://play.google.com/store/apps/details?id=th.go.oae.anew.farmd   \n",
       "2 https://play.google.com/store/apps/details?id=th.go.oae.skm_pricefarm\n",
       "3 https://play.google.com/store/apps/details?id=th.go.oae.rcmo         \n",
       "4 https://play.google.com/store/apps/details?id=th.go.oae.moacmis.nut  \n",
       "5 https://play.google.com/store/apps/details?id=com.betimes.oaefarmer  "
      ]
     },
     "metadata": {},
     "output_type": "display_data"
    }
   ],
   "source": [
    "q1 <- dbReadTable(con, \"df\")\n",
    "q1"
   ]
  },
  {
   "cell_type": "code",
   "execution_count": 36,
   "metadata": {},
   "outputs": [
    {
     "data": {
      "text/html": [
       "<style>\n",
       ".list-inline {list-style: none; margin:0; padding: 0}\n",
       ".list-inline>li {display: inline-block}\n",
       ".list-inline>li:not(:last-child)::after {content: \"\\00b7\"; padding: 0 .5ex}\n",
       "</style>\n",
       "<ol class=list-inline><li>'app_1_url'</li><li>'df'</li></ol>\n"
      ],
      "text/latex": [
       "\\begin{enumerate*}\n",
       "\\item 'app\\_1\\_url'\n",
       "\\item 'df'\n",
       "\\end{enumerate*}\n"
      ],
      "text/markdown": [
       "1. 'app_1_url'\n",
       "2. 'df'\n",
       "\n",
       "\n"
      ],
      "text/plain": [
       "[1] \"app_1_url\" \"df\"       "
      ]
     },
     "metadata": {},
     "output_type": "display_data"
    }
   ],
   "source": [
    "dbListTables(con)"
   ]
  },
  {
   "cell_type": "code",
   "execution_count": 19,
   "metadata": {},
   "outputs": [
    {
     "data": {
      "text/html": [
       "<strong>$app_1_url</strong> = <style>\n",
       ".list-inline {list-style: none; margin:0; padding: 0}\n",
       ".list-inline>li {display: inline-block}\n",
       ".list-inline>li:not(:last-child)::after {content: \"\\00b7\"; padding: 0 .5ex}\n",
       "</style>\n",
       "<ol class=list-inline><li>'code'</li><li>'url_andriod'</li></ol>\n"
      ],
      "text/latex": [
       "\\textbf{\\$app\\_1\\_url} = \\begin{enumerate*}\n",
       "\\item 'code'\n",
       "\\item 'url\\_andriod'\n",
       "\\end{enumerate*}\n"
      ],
      "text/markdown": [
       "**$app_1_url** = 1. 'code'\n",
       "2. 'url_andriod'\n",
       "\n",
       "\n"
      ],
      "text/plain": [
       "$app_1_url\n",
       "[1] \"code\"        \"url_andriod\"\n"
      ]
     },
     "metadata": {},
     "output_type": "display_data"
    }
   ],
   "source": [
    "tables = dbListTables(con)\n",
    "tables_list = map(tables, dbListFields, conn = con)\n",
    "names(tables_list) = tables\n",
    "tables_list"
   ]
  },
  {
   "cell_type": "code",
   "execution_count": 26,
   "metadata": {},
   "outputs": [
    {
     "data": {
      "text/html": [
       "<table>\n",
       "<caption>A data.frame: 0 × 2</caption>\n",
       "<thead>\n",
       "\t<tr><th scope=col>code</th><th scope=col>url_andriod</th></tr>\n",
       "\t<tr><th scope=col>&lt;chr&gt;</th><th scope=col>&lt;chr&gt;</th></tr>\n",
       "</thead>\n",
       "<tbody>\n",
       "</tbody>\n",
       "</table>\n"
      ],
      "text/latex": [
       "A data.frame: 0 × 2\n",
       "\\begin{tabular}{ll}\n",
       " code & url\\_andriod\\\\\n",
       " <chr> & <chr>\\\\\n",
       "\\hline\n",
       "\\end{tabular}\n"
      ],
      "text/markdown": [
       "\n",
       "A data.frame: 0 × 2\n",
       "\n",
       "| code &lt;chr&gt; | url_andriod &lt;chr&gt; |\n",
       "|---|---|\n",
       "\n"
      ],
      "text/plain": [
       "     code url_andriod"
      ]
     },
     "metadata": {},
     "output_type": "display_data"
    }
   ],
   "source": [
    "q1 <- dbReadTable(con, \"app_1_url\")\n",
    "q1"
   ]
  },
  {
   "cell_type": "code",
   "execution_count": 24,
   "metadata": {},
   "outputs": [
    {
     "data": {
      "text/plain": [
       "\u001b[90m# Source:   table<app_1_url> [?? x 2]\u001b[39m\n",
       "\u001b[90m# Database: postgres [postgres@192.168.4.133:5432/db-mobile-app-ag]\u001b[39m\n",
       "\u001b[90m# ... with 2 variables: code \u001b[3m\u001b[90m<chr>\u001b[90m\u001b[23m, url_andriod \u001b[3m\u001b[90m<chr>\u001b[90m\u001b[23m\u001b[39m"
      ]
     },
     "metadata": {},
     "output_type": "display_data"
    }
   ],
   "source": [
    "q1"
   ]
  },
  {
   "cell_type": "code",
   "execution_count": null,
   "metadata": {},
   "outputs": [],
   "source": []
  }
 ],
 "metadata": {
  "kernelspec": {
   "display_name": "R",
   "language": "R",
   "name": "ir"
  },
  "language_info": {
   "codemirror_mode": "r",
   "file_extension": ".r",
   "mimetype": "text/x-r-source",
   "name": "R",
   "pygments_lexer": "r",
   "version": "4.0.2"
  }
 },
 "nbformat": 4,
 "nbformat_minor": 4
}
