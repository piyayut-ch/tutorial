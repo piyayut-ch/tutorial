{
 "cells": [
  {
   "cell_type": "code",
   "execution_count": 1,
   "metadata": {},
   "outputs": [],
   "source": [
    "library(xfun, warn.conflicts = FALSE)\n",
    "pkgs <- c(\"collapse\", \"tsbox\", \"timetk\", \"tidyverse\", \"plm\", \"tsibble\")\n",
    "pkg_attach2(pkgs, message = FALSE)"
   ]
  },
  {
   "cell_type": "code",
   "execution_count": 2,
   "metadata": {},
   "outputs": [
    {
     "data": {
      "text/html": [
       "<table>\n",
       "<caption>A data.frame: 6 × 12</caption>\n",
       "<thead>\n",
       "\t<tr><th></th><th scope=col>country</th><th scope=col>iso3c</th><th scope=col>date</th><th scope=col>year</th><th scope=col>decade</th><th scope=col>region</th><th scope=col>income</th><th scope=col>OECD</th><th scope=col>PCGDP</th><th scope=col>LIFEEX</th><th scope=col>GINI</th><th scope=col>ODA</th></tr>\n",
       "\t<tr><th></th><th scope=col>&lt;chr&gt;</th><th scope=col>&lt;fct&gt;</th><th scope=col>&lt;date&gt;</th><th scope=col>&lt;int&gt;</th><th scope=col>&lt;dbl&gt;</th><th scope=col>&lt;fct&gt;</th><th scope=col>&lt;fct&gt;</th><th scope=col>&lt;lgl&gt;</th><th scope=col>&lt;dbl&gt;</th><th scope=col>&lt;dbl&gt;</th><th scope=col>&lt;dbl&gt;</th><th scope=col>&lt;dbl&gt;</th></tr>\n",
       "</thead>\n",
       "<tbody>\n",
       "\t<tr><th scope=row>1</th><td>Afghanistan</td><td>AFG</td><td>1961-01-01</td><td>1960</td><td>1960</td><td>South Asia</td><td>Low income</td><td>FALSE</td><td>NA</td><td>32.292</td><td>NA</td><td>114440000</td></tr>\n",
       "\t<tr><th scope=row>2</th><td>Afghanistan</td><td>AFG</td><td>1962-01-01</td><td>1961</td><td>1960</td><td>South Asia</td><td>Low income</td><td>FALSE</td><td>NA</td><td>32.742</td><td>NA</td><td>233350000</td></tr>\n",
       "\t<tr><th scope=row>3</th><td>Afghanistan</td><td>AFG</td><td>1963-01-01</td><td>1962</td><td>1960</td><td>South Asia</td><td>Low income</td><td>FALSE</td><td>NA</td><td>33.185</td><td>NA</td><td>114880000</td></tr>\n",
       "\t<tr><th scope=row>4</th><td>Afghanistan</td><td>AFG</td><td>1964-01-01</td><td>1963</td><td>1960</td><td>South Asia</td><td>Low income</td><td>FALSE</td><td>NA</td><td>33.624</td><td>NA</td><td>236450000</td></tr>\n",
       "\t<tr><th scope=row>5</th><td>Afghanistan</td><td>AFG</td><td>1965-01-01</td><td>1964</td><td>1960</td><td>South Asia</td><td>Low income</td><td>FALSE</td><td>NA</td><td>34.060</td><td>NA</td><td>302480000</td></tr>\n",
       "\t<tr><th scope=row>6</th><td>Afghanistan</td><td>AFG</td><td>1966-01-01</td><td>1965</td><td>1960</td><td>South Asia</td><td>Low income</td><td>FALSE</td><td>NA</td><td>34.495</td><td>NA</td><td>370250000</td></tr>\n",
       "</tbody>\n",
       "</table>\n"
      ],
      "text/latex": [
       "A data.frame: 6 × 12\n",
       "\\begin{tabular}{r|llllllllllll}\n",
       "  & country & iso3c & date & year & decade & region & income & OECD & PCGDP & LIFEEX & GINI & ODA\\\\\n",
       "  & <chr> & <fct> & <date> & <int> & <dbl> & <fct> & <fct> & <lgl> & <dbl> & <dbl> & <dbl> & <dbl>\\\\\n",
       "\\hline\n",
       "\t1 & Afghanistan & AFG & 1961-01-01 & 1960 & 1960 & South Asia & Low income & FALSE & NA & 32.292 & NA & 114440000\\\\\n",
       "\t2 & Afghanistan & AFG & 1962-01-01 & 1961 & 1960 & South Asia & Low income & FALSE & NA & 32.742 & NA & 233350000\\\\\n",
       "\t3 & Afghanistan & AFG & 1963-01-01 & 1962 & 1960 & South Asia & Low income & FALSE & NA & 33.185 & NA & 114880000\\\\\n",
       "\t4 & Afghanistan & AFG & 1964-01-01 & 1963 & 1960 & South Asia & Low income & FALSE & NA & 33.624 & NA & 236450000\\\\\n",
       "\t5 & Afghanistan & AFG & 1965-01-01 & 1964 & 1960 & South Asia & Low income & FALSE & NA & 34.060 & NA & 302480000\\\\\n",
       "\t6 & Afghanistan & AFG & 1966-01-01 & 1965 & 1960 & South Asia & Low income & FALSE & NA & 34.495 & NA & 370250000\\\\\n",
       "\\end{tabular}\n"
      ],
      "text/markdown": [
       "\n",
       "A data.frame: 6 × 12\n",
       "\n",
       "| <!--/--> | country &lt;chr&gt; | iso3c &lt;fct&gt; | date &lt;date&gt; | year &lt;int&gt; | decade &lt;dbl&gt; | region &lt;fct&gt; | income &lt;fct&gt; | OECD &lt;lgl&gt; | PCGDP &lt;dbl&gt; | LIFEEX &lt;dbl&gt; | GINI &lt;dbl&gt; | ODA &lt;dbl&gt; |\n",
       "|---|---|---|---|---|---|---|---|---|---|---|---|---|\n",
       "| 1 | Afghanistan | AFG | 1961-01-01 | 1960 | 1960 | South Asia | Low income | FALSE | NA | 32.292 | NA | 114440000 |\n",
       "| 2 | Afghanistan | AFG | 1962-01-01 | 1961 | 1960 | South Asia | Low income | FALSE | NA | 32.742 | NA | 233350000 |\n",
       "| 3 | Afghanistan | AFG | 1963-01-01 | 1962 | 1960 | South Asia | Low income | FALSE | NA | 33.185 | NA | 114880000 |\n",
       "| 4 | Afghanistan | AFG | 1964-01-01 | 1963 | 1960 | South Asia | Low income | FALSE | NA | 33.624 | NA | 236450000 |\n",
       "| 5 | Afghanistan | AFG | 1965-01-01 | 1964 | 1960 | South Asia | Low income | FALSE | NA | 34.060 | NA | 302480000 |\n",
       "| 6 | Afghanistan | AFG | 1966-01-01 | 1965 | 1960 | South Asia | Low income | FALSE | NA | 34.495 | NA | 370250000 |\n",
       "\n"
      ],
      "text/plain": [
       "  country     iso3c date       year decade region     income     OECD  PCGDP\n",
       "1 Afghanistan AFG   1961-01-01 1960 1960   South Asia Low income FALSE NA   \n",
       "2 Afghanistan AFG   1962-01-01 1961 1960   South Asia Low income FALSE NA   \n",
       "3 Afghanistan AFG   1963-01-01 1962 1960   South Asia Low income FALSE NA   \n",
       "4 Afghanistan AFG   1964-01-01 1963 1960   South Asia Low income FALSE NA   \n",
       "5 Afghanistan AFG   1965-01-01 1964 1960   South Asia Low income FALSE NA   \n",
       "6 Afghanistan AFG   1966-01-01 1965 1960   South Asia Low income FALSE NA   \n",
       "  LIFEEX GINI ODA      \n",
       "1 32.292 NA   114440000\n",
       "2 32.742 NA   233350000\n",
       "3 33.185 NA   114880000\n",
       "4 33.624 NA   236450000\n",
       "5 34.060 NA   302480000\n",
       "6 34.495 NA   370250000"
      ]
     },
     "metadata": {},
     "output_type": "display_data"
    }
   ],
   "source": [
    "head(wlddev)"
   ]
  },
  {
   "cell_type": "code",
   "execution_count": 6,
   "metadata": {},
   "outputs": [
    {
     "data": {
      "text/html": [
       "<table>\n",
       "<caption>A tibble: 6 × 3</caption>\n",
       "<thead>\n",
       "\t<tr><th scope=col>id</th><th scope=col>date</th><th scope=col>value</th></tr>\n",
       "\t<tr><th scope=col>&lt;fct&gt;</th><th scope=col>&lt;date&gt;</th><th scope=col>&lt;dbl&gt;</th></tr>\n",
       "</thead>\n",
       "<tbody>\n",
       "\t<tr><td>Q10</td><td>2000-01-01</td><td>2329.0</td></tr>\n",
       "\t<tr><td>Q10</td><td>2000-04-01</td><td>2349.9</td></tr>\n",
       "\t<tr><td>Q10</td><td>2000-07-01</td><td>2332.9</td></tr>\n",
       "\t<tr><td>Q10</td><td>2000-10-01</td><td>2381.5</td></tr>\n",
       "\t<tr><td>Q10</td><td>2001-01-01</td><td>2382.6</td></tr>\n",
       "\t<tr><td>Q10</td><td>2001-04-01</td><td>2405.0</td></tr>\n",
       "</tbody>\n",
       "</table>\n"
      ],
      "text/latex": [
       "A tibble: 6 × 3\n",
       "\\begin{tabular}{lll}\n",
       " id & date & value\\\\\n",
       " <fct> & <date> & <dbl>\\\\\n",
       "\\hline\n",
       "\t Q10 & 2000-01-01 & 2329.0\\\\\n",
       "\t Q10 & 2000-04-01 & 2349.9\\\\\n",
       "\t Q10 & 2000-07-01 & 2332.9\\\\\n",
       "\t Q10 & 2000-10-01 & 2381.5\\\\\n",
       "\t Q10 & 2001-01-01 & 2382.6\\\\\n",
       "\t Q10 & 2001-04-01 & 2405.0\\\\\n",
       "\\end{tabular}\n"
      ],
      "text/markdown": [
       "\n",
       "A tibble: 6 × 3\n",
       "\n",
       "| id &lt;fct&gt; | date &lt;date&gt; | value &lt;dbl&gt; |\n",
       "|---|---|---|\n",
       "| Q10 | 2000-01-01 | 2329.0 |\n",
       "| Q10 | 2000-04-01 | 2349.9 |\n",
       "| Q10 | 2000-07-01 | 2332.9 |\n",
       "| Q10 | 2000-10-01 | 2381.5 |\n",
       "| Q10 | 2001-01-01 | 2382.6 |\n",
       "| Q10 | 2001-04-01 | 2405.0 |\n",
       "\n"
      ],
      "text/plain": [
       "  id  date       value \n",
       "1 Q10 2000-01-01 2329.0\n",
       "2 Q10 2000-04-01 2349.9\n",
       "3 Q10 2000-07-01 2332.9\n",
       "4 Q10 2000-10-01 2381.5\n",
       "5 Q10 2001-01-01 2382.6\n",
       "6 Q10 2001-04-01 2405.0"
      ]
     },
     "metadata": {},
     "output_type": "display_data"
    }
   ],
   "source": [
    "q10_quarterly <- m4_quarterly %>% filter(id == \"Q10\")\n",
    "head(q10_quarterly)"
   ]
  },
  {
   "cell_type": "code",
   "execution_count": null,
   "metadata": {},
   "outputs": [],
   "source": []
  }
 ],
 "metadata": {
  "kernelspec": {
   "display_name": "R",
   "language": "R",
   "name": "ir"
  },
  "language_info": {
   "codemirror_mode": "r",
   "file_extension": ".r",
   "mimetype": "text/x-r-source",
   "name": "R",
   "pygments_lexer": "r",
   "version": "4.0.3"
  }
 },
 "nbformat": 4,
 "nbformat_minor": 4
}
