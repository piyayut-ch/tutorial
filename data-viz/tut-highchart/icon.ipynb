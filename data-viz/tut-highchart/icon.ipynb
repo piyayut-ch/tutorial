{
 "cells": [
  {
   "cell_type": "raw",
   "metadata": {},
   "source": [
    "---\n",
    "title: \"แนะนำ package Highcharter\"\n",
    "author: \"ปิยยุทธ จิตต์จำนงค์\"\n",
    "date: \"2020-11-22\"\n",
    "output: \n",
    "  html_document\n",
    "---"
   ]
  },
  {
   "cell_type": "markdown",
   "metadata": {
    "lines_to_next_cell": 0
   },
   "source": [
    "## Highcharts"
   ]
  },
  {
   "cell_type": "code",
   "execution_count": null,
   "metadata": {
    "eval": false
   },
   "outputs": [],
   "source": [
    "# install.packages(\"remotes\")\n",
    "remotes::install_github(\"mitchelloharawild/icon\")"
   ]
  },
  {
   "cell_type": "code",
   "execution_count": 2,
   "metadata": {},
   "outputs": [
    {
     "name": "stderr",
     "output_type": "stream",
     "text": [
      "-- \u001b[1mInstalled icons\u001b[22m ---------------------------------------------------------------------------------- icon 0.1.0.\u001b[31m9000\u001b[39m --\n",
      "\n",
      "\u001b[31mx\u001b[39m \u001b[34mionicons\u001b[39m                                                                    \u001b[32m<U+221A>\u001b[39m \u001b[34mC:\\Users\\Natty\\Documents\\github\\tut\\data-viz\\tut-highchart\\icons\u001b[39m       \n",
      "\u001b[31mx\u001b[39m \u001b[34macademicons\u001b[39m                                                                 \u001b[31mx\u001b[39m \u001b[34mmaterial_design\u001b[39m                                                        \n",
      "\u001b[31mx\u001b[39m \u001b[34msimple_icons\u001b[39m                                                                \u001b[32m<U+221A>\u001b[39m \u001b[34mfontawesome\u001b[39m                                                      5.15.1\n",
      "\n"
     ]
    }
   ],
   "source": [
    "library(icon)"
   ]
  },
  {
   "cell_type": "code",
   "execution_count": 3,
   "metadata": {
    "name": "icon-custom"
   },
   "outputs": [],
   "source": [
    "custom <- icon::icon_set(\"icons\")"
   ]
  },
  {
   "cell_type": "code",
   "execution_count": 16,
   "metadata": {},
   "outputs": [
    {
     "data": {
      "text/html": [
       "<!doctype html>\n",
       "<html>\n",
       "\t<head>\n",
       "\t\t<meta charset=\"utf-8\">\n",
       "\t\t\n",
       "\t</head>\n",
       "\t<body>\n",
       "\t\t<svg viewBox=\"0 0 640 512\" xmlns=\"http://www.w3.org/2000/svg\" style=\"position:relative;display:inline-block;top:.1em;fill:red;height:10em;\">\n",
       "  [ comment ]\n",
       "  <path d=\"M496.616 372.639l70.012-70.012c16.899-16.9 9.942-45.771-12.836-53.092L512 236.102V96c0-17.673-14.327-32-32-32h-64V24c0-13.255-10.745-24-24-24H248c-13.255 0-24 10.745-24 24v40h-64c-17.673 0-32 14.327-32 32v140.102l-41.792 13.433c-22.753 7.313-29.754 36.173-12.836 53.092l70.012 70.012C125.828 416.287 85.587 448 24 448c-13.255 0-24 10.745-24 24v16c0 13.255 10.745 24 24 24 61.023 0 107.499-20.61 143.258-59.396C181.677 487.432 216.021 512 256 512h128c39.979 0 74.323-24.568 88.742-59.396C508.495 491.384 554.968 512 616 512c13.255 0 24-10.745 24-24v-16c0-13.255-10.745-24-24-24-60.817 0-101.542-31.001-119.384-75.361zM192 128h256v87.531l-118.208-37.995a31.995 31.995 0 0 0-19.584 0L192 215.531V128z\"></path>\n",
       "</svg>\n",
       "\t</body>\n",
       "</html>\n"
      ],
      "text/plain": [
       "Shiny tags cannot be represented in plain text (need html)"
      ]
     },
     "metadata": {
      "text/html": {
       "isolated": true
      }
     },
     "output_type": "display_data"
    }
   ],
   "source": [
    "x <- custom$ship\n",
    "x <- fontawesome(\"ship\", style = \"solid\")\n",
    "# icon_style(x, fill = \"red\")\n",
    "icon_style(x, fill = \"red\", scale = 10)"
   ]
  },
  {
   "cell_type": "code",
   "execution_count": null,
   "metadata": {
    "name": "icon-sticker"
   },
   "outputs": [],
   "source": [
    "custom$ship\n",
    "# str(custom$ship)\n",
    "\n",
    "x <- fontawesome(\"ship\", style = \"solid\")\n",
    "icon_style(x, fill = \"red\")"
   ]
  }
 ],
 "metadata": {
  "jupytext": {
   "cell_metadata_filter": "eval,name,-all",
   "formats": "Rmd,ipynb",
   "notebook_metadata_filter": "-all"
  },
  "kernelspec": {
   "display_name": "R",
   "language": "R",
   "name": "ir"
  },
  "language_info": {
   "codemirror_mode": "r",
   "file_extension": ".r",
   "mimetype": "text/x-r-source",
   "name": "R",
   "pygments_lexer": "r",
   "version": "4.0.3"
  }
 },
 "nbformat": 4,
 "nbformat_minor": 4
}
