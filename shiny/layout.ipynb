{
 "cells": [
  {
   "cell_type": "markdown",
   "metadata": {},
   "source": [
    "## Overview\n",
    "\n",
    "1. Sidebar\n",
    "2. Grid System\n",
    "3. Segment using `tabsetPanel()` and `navlistPanel()`\n",
    "4. Multiple top-level using `navbarPage()`"
   ]
  },
  {
   "cell_type": "markdown",
   "metadata": {},
   "source": [
    "## Sidebar"
   ]
  },
  {
   "cell_type": "markdown",
   "metadata": {},
   "source": [
    "```{r}\n",
    "ui <- fluidPage(\n",
    "\n",
    "  titlePanel(\"Hello Shiny!\"),\n",
    "\n",
    "  sidebarLayout( #change position by using position = 'right',\n",
    "\n",
    "    sidebarPanel(\n",
    "      sliderInput(\"obs\", \"Number of observations:\",  \n",
    "                  min = 1, max = 1000, value = 500)\n",
    "    ),\n",
    "\n",
    "    mainPanel(\n",
    "      plotOutput(\"distPlot\")\n",
    "    )\n",
    "  )\n",
    ")\n",
    "```"
   ]
  },
  {
   "cell_type": "markdown",
   "metadata": {},
   "source": [
    "## Grid Layout"
   ]
  },
  {
   "cell_type": "markdown",
   "metadata": {},
   "source": [
    "low-level grid layout using `fluidRow()` with `column()` under 12-wide grid system"
   ]
  },
  {
   "cell_type": "markdown",
   "metadata": {},
   "source": [
    "```{r}\n",
    "ui <- fluidPage(\n",
    "\n",
    "  titlePanel(\"Hello Shiny!\"),\n",
    "\n",
    "  fluidRow(\n",
    "  \n",
    "    column(4,\n",
    "      wellPanel(\n",
    "        sliderInput(\"obs\", \"Number of observations:\",  \n",
    "                    min = 1, max = 1000, value = 500)\n",
    "      )       \n",
    "    ),\n",
    "\n",
    "    column(8,\n",
    "      plotOutput(\"distPlot\")\n",
    "    )\n",
    "  )\n",
    ")\n",
    "```"
   ]
  },
  {
   "cell_type": "markdown",
   "metadata": {},
   "source": [
    "```{r}\n",
    "library(shiny)\n",
    "library(ggplot2)\n",
    "\n",
    "dataset <- diamonds\n",
    "\n",
    "ui <- fluidPage(\n",
    "\n",
    "  title = \"Diamonds Explorer\",\n",
    "  \n",
    "  plotOutput('plot'),\n",
    "  \n",
    "  hr(),\n",
    "\n",
    "  fluidRow(\n",
    "    column(3,\n",
    "      h4(\"Diamonds Explorer\"),\n",
    "      sliderInput('sampleSize', 'Sample Size', \n",
    "                  min=1, max=nrow(dataset), value=min(1000, nrow(dataset)), \n",
    "                  step=500, round=0),\n",
    "      br(),\n",
    "      checkboxInput('jitter', 'Jitter'),\n",
    "      checkboxInput('smooth', 'Smooth')\n",
    "    ),\n",
    "    column(4, offset = 1,\n",
    "      selectInput('x', 'X', names(dataset)),\n",
    "      selectInput('y', 'Y', names(dataset), names(dataset)[[2]]),\n",
    "      selectInput('color', 'Color', c('None', names(dataset)))\n",
    "    ),\n",
    "    column(4,\n",
    "      selectInput('facet_row', 'Facet Row', c(None='.', names(dataset))),\n",
    "      selectInput('facet_col', 'Facet Column', c(None='.', names(dataset)))\n",
    "    )\n",
    "  )\n",
    ")\n",
    "```"
   ]
  },
  {
   "cell_type": "markdown",
   "metadata": {},
   "source": [
    "## Tabsets"
   ]
  },
  {
   "cell_type": "markdown",
   "metadata": {},
   "source": [
    "```{r}\n",
    "ui <- fluidPage(\n",
    "\n",
    "  titlePanel(\"Tabsets\"),\n",
    "\n",
    "  sidebarLayout(\n",
    "    \n",
    "    sidebarPanel(\n",
    "      # Inputs excluded for brevity\n",
    "    ),\n",
    "  \n",
    "    mainPanel(\n",
    "      tabsetPanel(\n",
    "        tabPanel(\"Plot\", plotOutput(\"plot\")), \n",
    "        tabPanel(\"Summary\", verbatimTextOutput(\"summary\")), \n",
    "        tabPanel(\"Table\", tableOutput(\"table\"))\n",
    "      )\n",
    "    )\n",
    "  )\n",
    ")\n",
    "```"
   ]
  },
  {
   "cell_type": "markdown",
   "metadata": {},
   "source": [
    "## Navlists\n",
    "\n",
    "```{r}\n",
    "ui <- fluidPage(\n",
    "  \n",
    "  titlePanel(\"Application Title\"),\n",
    "  \n",
    "  navlistPanel(\n",
    "    \"Header A\",\n",
    "    tabPanel(\"Component 1\"),\n",
    "    tabPanel(\"Component 2\"),\n",
    "    \"Header B\",\n",
    "    tabPanel(\"Component 3\"),\n",
    "    tabPanel(\"Component 4\"),\n",
    "    \"-----\",\n",
    "    tabPanel(\"Component 5\")\n",
    "  )\n",
    ")\n",
    "```"
   ]
  },
  {
   "cell_type": "markdown",
   "metadata": {},
   "source": [
    "## Navbar Pages"
   ]
  },
  {
   "cell_type": "markdown",
   "metadata": {},
   "source": [
    "```{r}\n",
    "ui <- navbarPage(\"My Application\",\n",
    "  tabPanel(\"Component 1\"),\n",
    "  tabPanel(\"Component 2\"),\n",
    "  tabPanel(\"Component 3\")\n",
    ")\n",
    "```\n",
    "\n",
    "```{r}\n",
    "ui <- navbarPage(\"My Application\",\n",
    "  tabPanel(\"Component 1\"),\n",
    "  tabPanel(\"Component 2\"),\n",
    "  navbarMenu(\"More\",\n",
    "    tabPanel(\"Sub-Component A\"),\n",
    "    tabPanel(\"Sub-Component B\"))\n",
    ")\n",
    "```"
   ]
  },
  {
   "cell_type": "code",
   "execution_count": null,
   "metadata": {},
   "outputs": [],
   "source": []
  }
 ],
 "metadata": {
  "kernelspec": {
   "display_name": "R",
   "language": "R",
   "name": "ir"
  },
  "language_info": {
   "codemirror_mode": "r",
   "file_extension": ".r",
   "mimetype": "text/x-r-source",
   "name": "R",
   "pygments_lexer": "r",
   "version": "4.0.0"
  }
 },
 "nbformat": 4,
 "nbformat_minor": 4
}
