{
 "cells": [
  {
   "cell_type": "code",
   "execution_count": 1,
   "metadata": {},
   "outputs": [
    {
     "name": "stderr",
     "output_type": "stream",
     "text": [
      "Linking to GEOS 3.8.0, GDAL 3.0.4, PROJ 6.3.1\n",
      "\n"
     ]
    }
   ],
   "source": [
    "library(sf)"
   ]
  },
  {
   "cell_type": "code",
   "execution_count": 2,
   "metadata": {},
   "outputs": [
    {
     "name": "stdout",
     "output_type": "stream",
     "text": [
      "Multiple layers are present in data source C:\\Users\\Natty\\Documents\\github\\nabc\\shiny\\tha.gdb, reading layer `tha_admbndt_adminUnitLookup'.\n",
      "Use `st_layers' to list all layer names and their type in a data source.\n",
      "Set the `layer' argument in `st_read' to read a particular layer.\n"
     ]
    },
    {
     "name": "stderr",
     "output_type": "stream",
     "text": [
      "Warning message in evalq((function (..., call. = TRUE, immediate. = FALSE, noBreaks. = FALSE, :\n",
      "\"automatically selected the first layer in a data source containing more than one.\"\n"
     ]
    },
    {
     "name": "stdout",
     "output_type": "stream",
     "text": [
      "Reading layer `tha_admbndt_adminUnitLookup' from data source `C:\\Users\\Natty\\Documents\\github\\nabc\\shiny\\tha.gdb' using driver `OpenFileGDB'\n"
     ]
    },
    {
     "name": "stderr",
     "output_type": "stream",
     "text": [
      "Warning message:\n",
      "\"no simple feature geometries present: returning a data.frame or tbl_df\"\n"
     ]
    }
   ],
   "source": [
    "tha1 <- sf::st_read(dsn = \"tha.gdb\")"
   ]
  },
  {
   "cell_type": "code",
   "execution_count": 4,
   "metadata": {},
   "outputs": [
    {
     "data": {
      "text/plain": [
       "Driver: OpenFileGDB \n",
       "Available layers:\n",
       "                             layer_name     geometry_type features fields\n",
       "1           tha_admbndt_adminUnitLookup                NA        4      6\n",
       "2        tha_admbnda_adm2_rtsd_20190221     Multi Polygon      928     19\n",
       "3        tha_admbnda_adm1_rtsd_20190221     Multi Polygon       77     16\n",
       "4        tha_admbnda_adm0_rtsd_20190221     Multi Polygon        1     13\n",
       "5 tha_admbndp_admALL_rtsd_itos_20190221             Point     7425     33\n",
       "6 tha_admbndl_admALL_rtsd_itos_20190221 Multi Line String    22425      5\n",
       "7        tha_admbnda_adm3_rtsd_20190221     Multi Polygon     7425     22"
      ]
     },
     "metadata": {},
     "output_type": "display_data"
    }
   ],
   "source": [
    "st_layers('tha.gdb')"
   ]
  },
  {
   "cell_type": "code",
   "execution_count": 2,
   "metadata": {},
   "outputs": [
    {
     "name": "stdout",
     "output_type": "stream",
     "text": [
      "Reading layer `tha_admbnda_adm3_rtsd_20190221' from data source `C:\\Users\\Natty\\Documents\\github\\nabc\\shiny\\tha.gdb' using driver `OpenFileGDB'\n",
      "Simple feature collection with 7425 features and 22 fields\n",
      "geometry type:  MULTIPOLYGON\n",
      "dimension:      XY\n",
      "bbox:           xmin: 97.34336 ymin: 5.613038 xmax: 105.637 ymax: 20.46507\n",
      "geographic CRS: WGS 84\n"
     ]
    }
   ],
   "source": [
    "tha3 = st_read('tha.gdb', layer = 'tha_admbnda_adm3_rtsd_20190221')"
   ]
  },
  {
   "cell_type": "code",
   "execution_count": 7,
   "metadata": {},
   "outputs": [
    {
     "data": {
      "text/plain": [
       "260937560 bytes"
      ]
     },
     "metadata": {},
     "output_type": "display_data"
    }
   ],
   "source": [
    "object.size(tha3)"
   ]
  },
  {
   "cell_type": "code",
   "execution_count": null,
   "metadata": {},
   "outputs": [],
   "source": []
  }
 ],
 "metadata": {
  "kernelspec": {
   "display_name": "R",
   "language": "R",
   "name": "ir"
  },
  "language_info": {
   "codemirror_mode": "r",
   "file_extension": ".r",
   "mimetype": "text/x-r-source",
   "name": "R",
   "pygments_lexer": "r",
   "version": "4.0.0"
  }
 },
 "nbformat": 4,
 "nbformat_minor": 4
}
